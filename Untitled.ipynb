{
 "cells": [
  {
   "cell_type": "code",
   "execution_count": 1,
   "id": "052fe842",
   "metadata": {},
   "outputs": [],
   "source": [
    "import requests\n",
    "import pandas as pd\n",
    "\n",
    "\n",
    "def main():\n",
    "    base = 'https://www.cbtnuggets.com/it-training/'\n",
    "    response  = requests.get('https://api.cbtnuggets.com/site-gateway/v1/all/courses/for/search?archive=false')\n",
    "\n",
    "    data = response.json()\n",
    "\n",
    "    titles = [item['title'] for item in data]\n",
    "    trainers = [item['trainers'][0]['name'] for item in data]\n",
    "    ratings = [item['rating'] for item in data]\n",
    "    vendors = [item['vendors'][0]['display'] if len(item['vendors']) != 0 else 'N/A' for item in data]\n",
    "    paths = [item['paths'][0]['path_label'] for item in data]\n",
    "    skillLevel = [item['difficulty']['display'] for item in data]\n",
    "    links = [base + item['seoslug'] for item in data]\n",
    "\n",
    "    df=  pd.DataFrame(\n",
    "      {'Course Title': titles,\n",
    "       'Trainer': trainers,\n",
    "       'Rating': ratings,\n",
    "       'Vendor': vendors,\n",
    "       'IT Path': paths,\n",
    "       'Skill Level': skillLevel,\n",
    "       'Course URL': links\n",
    "      })"
   ]
  },
  {
   "cell_type": "code",
   "execution_count": null,
   "id": "3198763d",
   "metadata": {},
   "outputs": [],
   "source": []
  }
 ],
 "metadata": {
  "kernelspec": {
   "display_name": "Python 3",
   "language": "python",
   "name": "python3"
  },
  "language_info": {
   "codemirror_mode": {
    "name": "ipython",
    "version": 3
   },
   "file_extension": ".py",
   "mimetype": "text/x-python",
   "name": "python",
   "nbconvert_exporter": "python",
   "pygments_lexer": "ipython3",
   "version": "3.9.2"
  }
 },
 "nbformat": 4,
 "nbformat_minor": 5
}
