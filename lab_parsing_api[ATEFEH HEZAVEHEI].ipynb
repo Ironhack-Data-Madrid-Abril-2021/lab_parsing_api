{
 "cells": [
  {
   "cell_type": "code",
   "execution_count": 1,
   "id": "bfb2ea87",
   "metadata": {},
   "outputs": [],
   "source": [
    "import json\n",
    "import requests\n",
    "import pandas as pd\n",
    "from pandas.io.json import json_normalize"
   ]
  },
  {
   "cell_type": "code",
   "execution_count": 2,
   "id": "e06a9f0e",
   "metadata": {},
   "outputs": [
    {
     "name": "stderr",
     "output_type": "stream",
     "text": [
      "<ipython-input-2-39b50fd1ea0f>:3: FutureWarning: pandas.io.json.json_normalize is deprecated, use pandas.json_normalize instead\n",
      "  flattened_data = json_normalize(results)\n"
     ]
    },
    {
     "data": {
      "text/html": [
       "<div>\n",
       "<style scoped>\n",
       "    .dataframe tbody tr th:only-of-type {\n",
       "        vertical-align: middle;\n",
       "    }\n",
       "\n",
       "    .dataframe tbody tr th {\n",
       "        vertical-align: top;\n",
       "    }\n",
       "\n",
       "    .dataframe thead th {\n",
       "        text-align: right;\n",
       "    }\n",
       "</style>\n",
       "<table border=\"1\" class=\"dataframe\">\n",
       "  <thead>\n",
       "    <tr style=\"text-align: right;\">\n",
       "      <th></th>\n",
       "      <th>name</th>\n",
       "      <th>result</th>\n",
       "    </tr>\n",
       "  </thead>\n",
       "  <tbody>\n",
       "    <tr>\n",
       "      <th>0</th>\n",
       "      <td>loxodonta africana</td>\n",
       "      <td>[{'species_id': 181008073, 'taxonomicnotes': '...</td>\n",
       "    </tr>\n",
       "  </tbody>\n",
       "</table>\n",
       "</div>"
      ],
      "text/plain": [
       "                 name                                             result\n",
       "0  loxodonta africana  [{'species_id': 181008073, 'taxonomicnotes': '..."
      ]
     },
     "execution_count": 2,
     "metadata": {},
     "output_type": "execute_result"
    }
   ],
   "source": [
    "response = requests.get(\"https://apiv3.iucnredlist.org/api/v3/species/narrative/loxodonta%20africana?token=9bb4facb6d23f48efbf424bb05c0c1ef1cf6f468393bc745d42179ac4aca5fee\")\n",
    "results = response.json()\n",
    "flattened_data = json_normalize(results)\n",
    "flattened_data.head()"
   ]
  },
  {
   "cell_type": "code",
   "execution_count": 6,
   "id": "b9034d2f",
   "metadata": {},
   "outputs": [
    {
     "name": "stderr",
     "output_type": "stream",
     "text": [
      "<ipython-input-6-a8d8bc047742>:1: FutureWarning: pandas.io.json.json_normalize is deprecated, use pandas.json_normalize instead\n",
      "  flattened_data1 = json_normalize(flattened_data.result[0])\n"
     ]
    },
    {
     "data": {
      "text/html": [
       "<div>\n",
       "<style scoped>\n",
       "    .dataframe tbody tr th:only-of-type {\n",
       "        vertical-align: middle;\n",
       "    }\n",
       "\n",
       "    .dataframe tbody tr th {\n",
       "        vertical-align: top;\n",
       "    }\n",
       "\n",
       "    .dataframe thead th {\n",
       "        text-align: right;\n",
       "    }\n",
       "</style>\n",
       "<table border=\"1\" class=\"dataframe\">\n",
       "  <thead>\n",
       "    <tr style=\"text-align: right;\">\n",
       "      <th></th>\n",
       "      <th>species_id</th>\n",
       "      <th>taxonomicnotes</th>\n",
       "      <th>rationale</th>\n",
       "      <th>geographicrange</th>\n",
       "      <th>population</th>\n",
       "      <th>populationtrend</th>\n",
       "      <th>habitat</th>\n",
       "      <th>threats</th>\n",
       "      <th>conservationmeasures</th>\n",
       "      <th>usetrade</th>\n",
       "    </tr>\n",
       "  </thead>\n",
       "  <tbody>\n",
       "    <tr>\n",
       "      <th>0</th>\n",
       "      <td>181008073</td>\n",
       "      <td>Three elephant taxa remain from the sixteen el...</td>\n",
       "      <td>&lt;p&gt;The African Savanna Elephant (&lt;em&gt;Loxodonta...</td>\n",
       "      <td>&lt;p&gt;African Savanna Elephants once occurred acr...</td>\n",
       "      <td>&lt;p&gt;Over the past century, African Savanna Elep...</td>\n",
       "      <td>decreasing</td>\n",
       "      <td>&lt;p&gt;African Savanna Elephants are found over a ...</td>\n",
       "      <td>Poaching of African Savanna Elephants for ivor...</td>\n",
       "      <td>&lt;p&gt;The African Savanna Elephant was listed in ...</td>\n",
       "      <td>&lt;strong&gt;Ivory:&lt;/strong&gt; Use of African Savanna...</td>\n",
       "    </tr>\n",
       "  </tbody>\n",
       "</table>\n",
       "</div>"
      ],
      "text/plain": [
       "   species_id                                     taxonomicnotes  \\\n",
       "0   181008073  Three elephant taxa remain from the sixteen el...   \n",
       "\n",
       "                                           rationale  \\\n",
       "0  <p>The African Savanna Elephant (<em>Loxodonta...   \n",
       "\n",
       "                                     geographicrange  \\\n",
       "0  <p>African Savanna Elephants once occurred acr...   \n",
       "\n",
       "                                          population populationtrend  \\\n",
       "0  <p>Over the past century, African Savanna Elep...      decreasing   \n",
       "\n",
       "                                             habitat  \\\n",
       "0  <p>African Savanna Elephants are found over a ...   \n",
       "\n",
       "                                             threats  \\\n",
       "0  Poaching of African Savanna Elephants for ivor...   \n",
       "\n",
       "                                conservationmeasures  \\\n",
       "0  <p>The African Savanna Elephant was listed in ...   \n",
       "\n",
       "                                            usetrade  \n",
       "0  <strong>Ivory:</strong> Use of African Savanna...  "
      ]
     },
     "execution_count": 6,
     "metadata": {},
     "output_type": "execute_result"
    }
   ],
   "source": [
    "flattened_data1 = json_normalize(flattened_data.result[0])\n",
    "flattened_data1"
   ]
  },
  {
   "cell_type": "code",
   "execution_count": 8,
   "id": "8fa809ea",
   "metadata": {},
   "outputs": [
    {
     "ename": "KeyError",
     "evalue": "'index'",
     "output_type": "error",
     "traceback": [
      "\u001b[1;31m---------------------------------------------------------------------------\u001b[0m",
      "\u001b[1;31mKeyError\u001b[0m                                  Traceback (most recent call last)",
      "\u001b[1;32m<ipython-input-8-8b285daff279>\u001b[0m in \u001b[0;36m<module>\u001b[1;34m\u001b[0m\n\u001b[0;32m      1\u001b[0m \u001b[1;31m# Get the total number of pages\u001b[0m\u001b[1;33m\u001b[0m\u001b[1;33m\u001b[0m\u001b[1;33m\u001b[0m\u001b[0m\n\u001b[1;32m----> 2\u001b[1;33m \u001b[0mtotal_pages\u001b[0m\u001b[1;33m=\u001b[0m\u001b[0mresults\u001b[0m\u001b[1;33m[\u001b[0m\u001b[1;34m\"index\"\u001b[0m\u001b[1;33m]\u001b[0m\u001b[1;33m[\u001b[0m\u001b[1;34m\"threats\"\u001b[0m\u001b[1;33m]\u001b[0m\u001b[1;33m\u001b[0m\u001b[1;33m\u001b[0m\u001b[0m\n\u001b[0m",
      "\u001b[1;31mKeyError\u001b[0m: 'index'"
     ]
    }
   ],
   "source": [
    "# Get the total number of pages\n",
    "total_pages=results[\"\"][\"]"
   ]
  },
  {
   "cell_type": "code",
   "execution_count": null,
   "id": "8eac6026",
   "metadata": {},
   "outputs": [],
   "source": [
    "# Your code\n",
    "df=pd.DataFrame()\n",
    "for i in range(total_pages):\n",
    "    k=84*i\n",
    "    url=\"https://apiv3.iucnredlist.org/api/v3/species/narrative/loxodonta%20africana?token=9bb4facb6d23f48efbf424bb05c0c1ef1cf6f468393bc745d42179ac4aca5fee\"\n",
    "    response = requests.get(url)\n",
    "    results = response.json()\n",
    "    flattened_data = json_normalize(results)\n",
    "    flattened_data1 = json_normalize(flattened_data.articles[0])\n",
    "    flattened_data1=flattened_data1.set_index('sku')\n",
    "    df = df.append(flattened_data1)\n",
    "\n",
    "df"
   ]
  },
  {
   "cell_type": "code",
   "execution_count": null,
   "id": "ed1354aa",
   "metadata": {},
   "outputs": [],
   "source": [
    "df.brand_name.value_counts().index[0]"
   ]
  },
  {
   "cell_type": "code",
   "execution_count": null,
   "id": "48587649",
   "metadata": {},
   "outputs": [],
   "source": [
    "#Our data is still text. Convert prices into numbers:\n",
    "df['price.original']=df['price.original'].str.extract('(\\d*,\\d*)')\n",
    "df['price.promotional']=df['price.promotional'].str.extract('(\\d*,\\d*)')\n",
    "\n",
    "df['price.original'] = [x.replace(',', '.') for x in df['price.original']]\n",
    "df['price.promotional'] = [x.replace(',', '.') for x in df['price.promotional']]"
   ]
  },
  {
   "cell_type": "code",
   "execution_count": null,
   "id": "9f59e1ab",
   "metadata": {},
   "outputs": [],
   "source": [
    "df['discount_amount']=df['price.original'].astype(float)-df['price.promotional'].astype(float)\n",
    "df1=df.copy()"
   ]
  },
  {
   "cell_type": "code",
   "execution_count": null,
   "id": "e80c99f3",
   "metadata": {},
   "outputs": [],
   "source": []
  }
 ],
 "metadata": {
  "kernelspec": {
   "display_name": "Python 3",
   "language": "python",
   "name": "python3"
  },
  "language_info": {
   "codemirror_mode": {
    "name": "ipython",
    "version": 3
   },
   "file_extension": ".py",
   "mimetype": "text/x-python",
   "name": "python",
   "nbconvert_exporter": "python",
   "pygments_lexer": "ipython3",
   "version": "3.9.2"
  }
 },
 "nbformat": 4,
 "nbformat_minor": 5
}
