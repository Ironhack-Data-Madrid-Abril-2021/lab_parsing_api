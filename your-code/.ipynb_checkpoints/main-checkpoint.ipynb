{
 "cells": [
  {
   "cell_type": "markdown",
   "metadata": {},
   "source": [
    "# Challenge: Promotions\n",
    "\n",
    "In this challenge, you'll develop codes to parse and analyze data returned from another API on Zalando such as [Promos homme (Men's Promotions)\n",
    "](https://www.zalando.fr/promo-homme/) or [Promos femme (Women's Promotions)](https://www.zalando.fr/promo-femme/). The workflow is almost the same as in the guided lesson but you'll work with different data."
   ]
  },
  {
   "cell_type": "markdown",
   "metadata": {},
   "source": [
    "I appreacite the above suggestion, but I'm going with Pokémon for personal reasons"
   ]
  },
  {
   "cell_type": "markdown",
   "metadata": {},
   "source": [
    "# Pokémon"
   ]
  },
  {
   "cell_type": "markdown",
   "metadata": {},
   "source": [
    "## Obtaining the link\n",
    "\n",
    "Wrote your codes in the cell below to obtain the data from the API endpoint you choose. A recap of the workflow:\n",
    "\n",
    "1. Examine the webpages and choose one that you want to work with.\n",
    "\n",
    "1. Use Google Chrome's DevTools to inspect the XHR network requests. Find out the API endpoint that serves data to the webpage.\n",
    "\n",
    "1. Test the API endpoint in the browser to verify its data.\n",
    "\n",
    "1. Change the page number offset of the API URL to test if it's working."
   ]
  },
  {
   "cell_type": "code",
   "execution_count": 13,
   "metadata": {},
   "outputs": [],
   "source": [
    "BASE_URL = 'https://pokeapi.co/api/v2/'\n",
    "endpoint = 'pokemon/1'"
   ]
  },
  {
   "cell_type": "code",
   "execution_count": 14,
   "metadata": {},
   "outputs": [
    {
     "data": {
      "text/plain": [
       "<Response [200]>"
      ]
     },
     "execution_count": 14,
     "metadata": {},
     "output_type": "execute_result"
    }
   ],
   "source": [
    "requests.get(BASE_URL+endpoint)"
   ]
  },
  {
   "cell_type": "markdown",
   "metadata": {},
   "source": [
    "## Reading the data\n",
    "\n",
    "In the next cell, use Python to obtain data from the API endpoint you chose in the previous step. Workflow:\n",
    "\n",
    "1. Import libraries.\n",
    "\n",
    "1. Define the initial API endpoint URL.\n",
    "\n",
    "1. Make request to obtain data of the 1st page. Flatten the data and store it in an empty object variable.\n",
    "\n",
    "1. Find out the total page count in the 1st page data.\n",
    "\n",
    "1. Use a FOR loop to make requests for the additional pages from 2 to page count. Append the data of each additional page to the flatterned data object.\n",
    "\n",
    "1. Print and review the data you obtained."
   ]
  },
  {
   "cell_type": "code",
   "execution_count": 17,
   "metadata": {},
   "outputs": [
    {
     "name": "stdout",
     "output_type": "stream",
     "text": [
      "Requirement already satisfied: requests in c:\\users\\ffrei\\appdata\\local\\programs\\python\\python39\\lib\\site-packages (2.25.1)\n",
      "Requirement already satisfied: chardet<5,>=3.0.2 in c:\\users\\ffrei\\appdata\\local\\programs\\python\\python39\\lib\\site-packages (from requests) (4.0.0)\n",
      "Requirement already satisfied: idna<3,>=2.5 in c:\\users\\ffrei\\appdata\\local\\programs\\python\\python39\\lib\\site-packages (from requests) (2.10)\n",
      "Requirement already satisfied: urllib3<1.27,>=1.21.1 in c:\\users\\ffrei\\appdata\\local\\programs\\python\\python39\\lib\\site-packages (from requests) (1.26.4)\n",
      "Requirement already satisfied: certifi>=2017.4.17 in c:\\users\\ffrei\\appdata\\local\\programs\\python\\python39\\lib\\site-packages (from requests) (2020.12.5)\n"
     ]
    },
    {
     "name": "stderr",
     "output_type": "stream",
     "text": [
      "WARNING: You are using pip version 21.0.1; however, version 21.1.1 is available.\n",
      "You should consider upgrading via the 'c:\\users\\ffrei\\appdata\\local\\programs\\python\\python39\\python.exe -m pip install --upgrade pip' command.\n"
     ]
    }
   ],
   "source": [
    "# Import libraries\n",
    "!pip install requests\n",
    "import json\n",
    "import requests\n",
    "import pandas as pd\n",
    "from pandas.io.json import json_normalize\n",
    "\n",
    "# Define the initial API endpoint URL:"
   ]
  },
  {
   "cell_type": "code",
   "execution_count": 81,
   "metadata": {},
   "outputs": [],
   "source": [
    "BASE_URL = 'https://pokeapi.co/api/v2/'\n",
    "aux = 'pokemon/1'\n",
    "endpoints = BASE_URL + aux\n",
    "\n",
    "'''for i in range(151):\n",
    "    \n",
    "    if i == 0:\n",
    "        endpoints.append('There is no #0 Pokémon')\n",
    "    else:\n",
    "        endpoint = BASE_URL + aux + str(i)\n",
    "        endpoints.append(endpoint)\n",
    "'''\n",
    "results = requests.get(endpoints).json() #transformar num data"
   ]
  },
  {
   "cell_type": "code",
   "execution_count": 82,
   "metadata": {},
   "outputs": [
    {
     "name": "stderr",
     "output_type": "stream",
     "text": [
      "<ipython-input-82-294bb4d51cac>:1: FutureWarning: pandas.io.json.json_normalize is deprecated, use pandas.json_normalize instead\n",
      "  df = json_normalize(results)\n"
     ]
    }
   ],
   "source": [
    "df = json_normalize(results)"
   ]
  },
  {
   "cell_type": "code",
   "execution_count": 83,
   "metadata": {},
   "outputs": [
    {
     "data": {
      "text/html": [
       "<div>\n",
       "<style scoped>\n",
       "    .dataframe tbody tr th:only-of-type {\n",
       "        vertical-align: middle;\n",
       "    }\n",
       "\n",
       "    .dataframe tbody tr th {\n",
       "        vertical-align: top;\n",
       "    }\n",
       "\n",
       "    .dataframe thead th {\n",
       "        text-align: right;\n",
       "    }\n",
       "</style>\n",
       "<table border=\"1\" class=\"dataframe\">\n",
       "  <thead>\n",
       "    <tr style=\"text-align: right;\">\n",
       "      <th></th>\n",
       "      <th>abilities</th>\n",
       "      <th>base_experience</th>\n",
       "      <th>forms</th>\n",
       "      <th>game_indices</th>\n",
       "      <th>height</th>\n",
       "      <th>held_items</th>\n",
       "      <th>id</th>\n",
       "      <th>is_default</th>\n",
       "      <th>location_area_encounters</th>\n",
       "      <th>moves</th>\n",
       "      <th>...</th>\n",
       "      <th>sprites.versions.generation-vi.x-y.front_shiny</th>\n",
       "      <th>sprites.versions.generation-vi.x-y.front_shiny_female</th>\n",
       "      <th>sprites.versions.generation-vii.icons.front_default</th>\n",
       "      <th>sprites.versions.generation-vii.icons.front_female</th>\n",
       "      <th>sprites.versions.generation-vii.ultra-sun-ultra-moon.front_default</th>\n",
       "      <th>sprites.versions.generation-vii.ultra-sun-ultra-moon.front_female</th>\n",
       "      <th>sprites.versions.generation-vii.ultra-sun-ultra-moon.front_shiny</th>\n",
       "      <th>sprites.versions.generation-vii.ultra-sun-ultra-moon.front_shiny_female</th>\n",
       "      <th>sprites.versions.generation-viii.icons.front_default</th>\n",
       "      <th>sprites.versions.generation-viii.icons.front_female</th>\n",
       "    </tr>\n",
       "  </thead>\n",
       "  <tbody>\n",
       "    <tr>\n",
       "      <th>0</th>\n",
       "      <td>[{'ability': {'name': 'overgrow', 'url': 'http...</td>\n",
       "      <td>64</td>\n",
       "      <td>[{'name': 'bulbasaur', 'url': 'https://pokeapi...</td>\n",
       "      <td>[{'game_index': 153, 'version': {'name': 'red'...</td>\n",
       "      <td>7</td>\n",
       "      <td>[]</td>\n",
       "      <td>1</td>\n",
       "      <td>True</td>\n",
       "      <td>https://pokeapi.co/api/v2/pokemon/1/encounters</td>\n",
       "      <td>[{'move': {'name': 'razor-wind', 'url': 'https...</td>\n",
       "      <td>...</td>\n",
       "      <td>https://raw.githubusercontent.com/PokeAPI/spri...</td>\n",
       "      <td>None</td>\n",
       "      <td>https://raw.githubusercontent.com/PokeAPI/spri...</td>\n",
       "      <td>None</td>\n",
       "      <td>https://raw.githubusercontent.com/PokeAPI/spri...</td>\n",
       "      <td>None</td>\n",
       "      <td>https://raw.githubusercontent.com/PokeAPI/spri...</td>\n",
       "      <td>None</td>\n",
       "      <td>https://raw.githubusercontent.com/PokeAPI/spri...</td>\n",
       "      <td>None</td>\n",
       "    </tr>\n",
       "  </tbody>\n",
       "</table>\n",
       "<p>1 rows × 115 columns</p>\n",
       "</div>"
      ],
      "text/plain": [
       "                                           abilities  base_experience  \\\n",
       "0  [{'ability': {'name': 'overgrow', 'url': 'http...               64   \n",
       "\n",
       "                                               forms  \\\n",
       "0  [{'name': 'bulbasaur', 'url': 'https://pokeapi...   \n",
       "\n",
       "                                        game_indices  height held_items  id  \\\n",
       "0  [{'game_index': 153, 'version': {'name': 'red'...       7         []   1   \n",
       "\n",
       "   is_default                        location_area_encounters  \\\n",
       "0        True  https://pokeapi.co/api/v2/pokemon/1/encounters   \n",
       "\n",
       "                                               moves  ...  \\\n",
       "0  [{'move': {'name': 'razor-wind', 'url': 'https...  ...   \n",
       "\n",
       "      sprites.versions.generation-vi.x-y.front_shiny  \\\n",
       "0  https://raw.githubusercontent.com/PokeAPI/spri...   \n",
       "\n",
       "   sprites.versions.generation-vi.x-y.front_shiny_female  \\\n",
       "0                                               None       \n",
       "\n",
       "  sprites.versions.generation-vii.icons.front_default  \\\n",
       "0  https://raw.githubusercontent.com/PokeAPI/spri...    \n",
       "\n",
       "  sprites.versions.generation-vii.icons.front_female  \\\n",
       "0                                               None   \n",
       "\n",
       "  sprites.versions.generation-vii.ultra-sun-ultra-moon.front_default  \\\n",
       "0  https://raw.githubusercontent.com/PokeAPI/spri...                   \n",
       "\n",
       "   sprites.versions.generation-vii.ultra-sun-ultra-moon.front_female  \\\n",
       "0                                               None                   \n",
       "\n",
       "  sprites.versions.generation-vii.ultra-sun-ultra-moon.front_shiny  \\\n",
       "0  https://raw.githubusercontent.com/PokeAPI/spri...                 \n",
       "\n",
       "  sprites.versions.generation-vii.ultra-sun-ultra-moon.front_shiny_female  \\\n",
       "0                                               None                        \n",
       "\n",
       "  sprites.versions.generation-viii.icons.front_default  \\\n",
       "0  https://raw.githubusercontent.com/PokeAPI/spri...     \n",
       "\n",
       "  sprites.versions.generation-viii.icons.front_female  \n",
       "0                                               None   \n",
       "\n",
       "[1 rows x 115 columns]"
      ]
     },
     "execution_count": 83,
     "metadata": {},
     "output_type": "execute_result"
    }
   ],
   "source": [
    "df #fazer explode json"
   ]
  },
  {
   "cell_type": "code",
   "execution_count": 107,
   "metadata": {},
   "outputs": [
    {
     "data": {
      "text/plain": [
       "0    {'name': 'bulbasaur', 'url': 'https://pokeapi....\n",
       "Name: forms, dtype: object"
      ]
     },
     "execution_count": 107,
     "metadata": {},
     "output_type": "execute_result"
    }
   ],
   "source": [
    "df['forms'].explode()"
   ]
  },
  {
   "cell_type": "code",
   "execution_count": 105,
   "metadata": {},
   "outputs": [
    {
     "data": {
      "text/plain": [
       "0    [{'name': 'bulbasaur', 'url': 'https://pokeapi...\n",
       "Name: forms, dtype: object"
      ]
     },
     "execution_count": 105,
     "metadata": {},
     "output_type": "execute_result"
    }
   ],
   "source": [
    "new"
   ]
  },
  {
   "cell_type": "markdown",
   "metadata": {},
   "source": [
    "## Bonus\n",
    "\n",
    "Extract the following information from the data:\n",
    "\n",
    "* The trending brand.\n",
    "\n",
    "* The product(s) with the highest discount.\n",
    "\n",
    "* The sum of discounts of all goods (sum_discounted_prices divided by sum_original_prices)."
   ]
  },
  {
   "cell_type": "code",
   "execution_count": null,
   "metadata": {},
   "outputs": [],
   "source": [
    "# your code here\n"
   ]
  },
  {
   "cell_type": "markdown",
   "metadata": {},
   "source": [
    "I goal would be to have a table with the whole information of the 1st generation Pokémons, but I can't make it explode, then expando to all 150 :("
   ]
  }
 ],
 "metadata": {
  "kernelspec": {
   "display_name": "Python 3",
   "language": "python",
   "name": "python3"
  },
  "language_info": {
   "codemirror_mode": {
    "name": "ipython",
    "version": 3
   },
   "file_extension": ".py",
   "mimetype": "text/x-python",
   "name": "python",
   "nbconvert_exporter": "python",
   "pygments_lexer": "ipython3",
   "version": "3.9.2"
  }
 },
 "nbformat": 4,
 "nbformat_minor": 2
}
