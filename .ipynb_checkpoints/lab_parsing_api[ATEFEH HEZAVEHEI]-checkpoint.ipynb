{
 "cells": [
  {
   "cell_type": "code",
   "execution_count": 1,
   "id": "5b72d9ad",
   "metadata": {},
   "outputs": [],
   "source": [
    "import json\n",
    "import requests\n",
    "import pandas as pd\n",
    "from pandas.io.json import json_normalize"
   ]
  },
  {
   "cell_type": "code",
   "execution_count": 2,
   "id": "714a45a2",
   "metadata": {},
   "outputs": [
    {
     "name": "stderr",
     "output_type": "stream",
     "text": [
      "<ipython-input-2-a6d596291dce>:4: FutureWarning: pandas.io.json.json_normalize is deprecated, use pandas.json_normalize instead\n",
      "  flattened_data = json_normalize(results)\n"
     ]
    },
    {
     "data": {
      "text/html": [
       "<div>\n",
       "<style scoped>\n",
       "    .dataframe tbody tr th:only-of-type {\n",
       "        vertical-align: middle;\n",
       "    }\n",
       "\n",
       "    .dataframe tbody tr th {\n",
       "        vertical-align: top;\n",
       "    }\n",
       "\n",
       "    .dataframe thead th {\n",
       "        text-align: right;\n",
       "    }\n",
       "</style>\n",
       "<table border=\"1\" class=\"dataframe\">\n",
       "  <thead>\n",
       "    <tr style=\"text-align: right;\">\n",
       "      <th></th>\n",
       "      <th>type</th>\n",
       "      <th>deleted</th>\n",
       "      <th>_id</th>\n",
       "      <th>user</th>\n",
       "      <th>text</th>\n",
       "      <th>__v</th>\n",
       "      <th>source</th>\n",
       "      <th>updatedAt</th>\n",
       "      <th>createdAt</th>\n",
       "      <th>used</th>\n",
       "      <th>status.verified</th>\n",
       "      <th>status.sentCount</th>\n",
       "      <th>status.feedback</th>\n",
       "    </tr>\n",
       "  </thead>\n",
       "  <tbody>\n",
       "    <tr>\n",
       "      <th>0</th>\n",
       "      <td>cat</td>\n",
       "      <td>False</td>\n",
       "      <td>5887e1d85c873e0011036889</td>\n",
       "      <td>5a9ac18c7478810ea6c06381</td>\n",
       "      <td>Cats make about 100 different sounds. Dogs mak...</td>\n",
       "      <td>0</td>\n",
       "      <td>user</td>\n",
       "      <td>2020-09-03T16:39:39.578Z</td>\n",
       "      <td>2018-01-15T21:20:00.003Z</td>\n",
       "      <td>True</td>\n",
       "      <td>True</td>\n",
       "      <td>1</td>\n",
       "      <td></td>\n",
       "    </tr>\n",
       "    <tr>\n",
       "      <th>1</th>\n",
       "      <td>cat</td>\n",
       "      <td>False</td>\n",
       "      <td>588e746706ac2b00110e59ff</td>\n",
       "      <td>588e6e8806ac2b00110e59c3</td>\n",
       "      <td>Domestic cats spend about 70 percent of the da...</td>\n",
       "      <td>0</td>\n",
       "      <td>user</td>\n",
       "      <td>2020-08-26T20:20:02.359Z</td>\n",
       "      <td>2018-01-14T21:20:02.750Z</td>\n",
       "      <td>True</td>\n",
       "      <td>True</td>\n",
       "      <td>1</td>\n",
       "      <td>NaN</td>\n",
       "    </tr>\n",
       "    <tr>\n",
       "      <th>2</th>\n",
       "      <td>cat</td>\n",
       "      <td>False</td>\n",
       "      <td>58923f2fc3878c0011784c79</td>\n",
       "      <td>5887e9f65c873e001103688d</td>\n",
       "      <td>I don't know anything about cats.</td>\n",
       "      <td>0</td>\n",
       "      <td>user</td>\n",
       "      <td>2020-08-23T20:20:01.611Z</td>\n",
       "      <td>2018-02-25T21:20:03.060Z</td>\n",
       "      <td>False</td>\n",
       "      <td>True</td>\n",
       "      <td>1</td>\n",
       "      <td>NaN</td>\n",
       "    </tr>\n",
       "    <tr>\n",
       "      <th>3</th>\n",
       "      <td>cat</td>\n",
       "      <td>False</td>\n",
       "      <td>5894af975cdc7400113ef7f9</td>\n",
       "      <td>5a9ac18c7478810ea6c06381</td>\n",
       "      <td>The technical term for a cat’s hairball is a b...</td>\n",
       "      <td>0</td>\n",
       "      <td>user</td>\n",
       "      <td>2020-11-25T21:20:03.895Z</td>\n",
       "      <td>2018-02-27T21:20:02.854Z</td>\n",
       "      <td>True</td>\n",
       "      <td>True</td>\n",
       "      <td>1</td>\n",
       "      <td>NaN</td>\n",
       "    </tr>\n",
       "    <tr>\n",
       "      <th>4</th>\n",
       "      <td>cat</td>\n",
       "      <td>False</td>\n",
       "      <td>58e007cc0aac31001185ecf5</td>\n",
       "      <td>58e007480aac31001185ecef</td>\n",
       "      <td>Cats are the most popular pet in the United St...</td>\n",
       "      <td>0</td>\n",
       "      <td>user</td>\n",
       "      <td>2020-08-23T20:20:01.611Z</td>\n",
       "      <td>2018-03-01T21:20:02.713Z</td>\n",
       "      <td>False</td>\n",
       "      <td>True</td>\n",
       "      <td>1</td>\n",
       "      <td>NaN</td>\n",
       "    </tr>\n",
       "  </tbody>\n",
       "</table>\n",
       "</div>"
      ],
      "text/plain": [
       "  type  deleted                       _id                      user  \\\n",
       "0  cat    False  5887e1d85c873e0011036889  5a9ac18c7478810ea6c06381   \n",
       "1  cat    False  588e746706ac2b00110e59ff  588e6e8806ac2b00110e59c3   \n",
       "2  cat    False  58923f2fc3878c0011784c79  5887e9f65c873e001103688d   \n",
       "3  cat    False  5894af975cdc7400113ef7f9  5a9ac18c7478810ea6c06381   \n",
       "4  cat    False  58e007cc0aac31001185ecf5  58e007480aac31001185ecef   \n",
       "\n",
       "                                                text  __v source  \\\n",
       "0  Cats make about 100 different sounds. Dogs mak...    0   user   \n",
       "1  Domestic cats spend about 70 percent of the da...    0   user   \n",
       "2                  I don't know anything about cats.    0   user   \n",
       "3  The technical term for a cat’s hairball is a b...    0   user   \n",
       "4  Cats are the most popular pet in the United St...    0   user   \n",
       "\n",
       "                  updatedAt                 createdAt   used  status.verified  \\\n",
       "0  2020-09-03T16:39:39.578Z  2018-01-15T21:20:00.003Z   True             True   \n",
       "1  2020-08-26T20:20:02.359Z  2018-01-14T21:20:02.750Z   True             True   \n",
       "2  2020-08-23T20:20:01.611Z  2018-02-25T21:20:03.060Z  False             True   \n",
       "3  2020-11-25T21:20:03.895Z  2018-02-27T21:20:02.854Z   True             True   \n",
       "4  2020-08-23T20:20:01.611Z  2018-03-01T21:20:02.713Z  False             True   \n",
       "\n",
       "   status.sentCount status.feedback  \n",
       "0                 1                  \n",
       "1                 1             NaN  \n",
       "2                 1             NaN  \n",
       "3                 1             NaN  \n",
       "4                 1             NaN  "
      ]
     },
     "execution_count": 2,
     "metadata": {},
     "output_type": "execute_result"
    }
   ],
   "source": [
    "#Catfacts\n",
    "response = requests.get(\"https://cat-fact.herokuapp.com/facts\")\n",
    "results = response.json()\n",
    "flattened_data = json_normalize(results)\n",
    "flattened_data.head()"
   ]
  },
  {
   "cell_type": "code",
   "execution_count": 3,
   "id": "654035c7",
   "metadata": {},
   "outputs": [],
   "source": [
    "#flattened_data1 = json_normalize(flattened_data.deleted[0])\n",
    "#flattened_data1"
   ]
  },
  {
   "cell_type": "code",
   "execution_count": 6,
   "id": "7ac59a3c",
   "metadata": {},
   "outputs": [
    {
     "data": {
      "text/plain": [
       "Index(['type', 'deleted', '_id', 'user', 'text', '__v', 'source', 'updatedAt',\n",
       "       'createdAt', 'used', 'status.verified', 'status.sentCount',\n",
       "       'status.feedback'],\n",
       "      dtype='object')"
      ]
     },
     "execution_count": 6,
     "metadata": {},
     "output_type": "execute_result"
    }
   ],
   "source": [
    "flattened_data.columns"
   ]
  },
  {
   "cell_type": "code",
   "execution_count": null,
   "id": "b312152a",
   "metadata": {},
   "outputs": [],
   "source": []
  }
 ],
 "metadata": {
  "kernelspec": {
   "display_name": "Python 3",
   "language": "python",
   "name": "python3"
  },
  "language_info": {
   "codemirror_mode": {
    "name": "ipython",
    "version": 3
   },
   "file_extension": ".py",
   "mimetype": "text/x-python",
   "name": "python",
   "nbconvert_exporter": "python",
   "pygments_lexer": "ipython3",
   "version": "3.9.2"
  }
 },
 "nbformat": 4,
 "nbformat_minor": 5
}
